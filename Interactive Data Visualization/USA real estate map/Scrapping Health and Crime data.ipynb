{
 "cells": [
  {
   "cell_type": "code",
   "execution_count": 1,
   "metadata": {
    "collapsed": true
   },
   "outputs": [],
   "source": [
    "import pandas as pd\n",
    "import numpy as np"
   ]
  },
  {
   "cell_type": "code",
   "execution_count": 2,
   "metadata": {
    "collapsed": true
   },
   "outputs": [],
   "source": [
    "import matplotlib.pyplot as plt"
   ]
  },
  {
   "cell_type": "code",
   "execution_count": 14,
   "metadata": {
    "collapsed": true
   },
   "outputs": [],
   "source": [
    "#Get the list of US states from one of my files\n",
    "states=pd.read_csv('states_names.csv')"
   ]
  },
  {
   "cell_type": "code",
   "execution_count": 4,
   "metadata": {
    "collapsed": true
   },
   "outputs": [],
   "source": [
    "#states=list(states['State'])"
   ]
  },
  {
   "cell_type": "code",
   "execution_count": 5,
   "metadata": {
    "collapsed": true
   },
   "outputs": [],
   "source": [
    "import re"
   ]
  },
  {
   "cell_type": "code",
   "execution_count": 6,
   "metadata": {
    "collapsed": true
   },
   "outputs": [],
   "source": [
    "import urllib.request"
   ]
  },
  {
   "cell_type": "code",
   "execution_count": 39,
   "metadata": {},
   "outputs": [
    {
     "data": {
      "text/plain": [
       "'https://www.countyhealthrankings.org/sites/default/files/state/downloads/2019%20County%20Health%20Rankings%20Ohio%20Data%20-%20v1_0.xls'"
      ]
     },
     "execution_count": 39,
     "metadata": {},
     "output_type": "execute_result"
    }
   ],
   "source": [
    "url"
   ]
  },
  {
   "cell_type": "code",
   "execution_count": 183,
   "metadata": {
    "collapsed": true,
    "scrolled": true
   },
   "outputs": [],
   "source": [
    "for state in ['Alaska', \"Hawaii\"]:\n",
    "    x=re.sub(' ', '%20', state)\n",
    "    url = str('https://www.countyhealthrankings.org/sites/default/files/state/downloads/2019%20County%20Health%20Rankings%20'+x+'%20Data%20-%20v1_0.xls')\n",
    "    urllib.request.urlretrieve(url, str('States data/'+state+'.xls'))"
   ]
  },
  {
   "cell_type": "code",
   "execution_count": null,
   "metadata": {
    "collapsed": true
   },
   "outputs": [],
   "source": [
    "import xlrd"
   ]
  },
  {
   "cell_type": "code",
   "execution_count": 324,
   "metadata": {
    "collapsed": true
   },
   "outputs": [],
   "source": [
    "df=pd.DataFrame(columns=['fips', 'state', 'county', 'violence rate'])\n",
    "count=0"
   ]
  },
  {
   "cell_type": "code",
   "execution_count": 325,
   "metadata": {
    "collapsed": true
   },
   "outputs": [],
   "source": [
    "for state in states:\n",
    "    workbook = xlrd.open_workbook(str('States data/'+state+'.xls'), on_demand = True)\n",
    "    worksheet = workbook.sheet_by_name('Ranked Measure Data')\n",
    "    \n",
    "    if ('FIPS' in str(worksheet.cell(1, 0)))&('County' in str(worksheet.cell(1, 2)))&('Violent Crime Rate' in str(worksheet.cell(1, 132))):    \n",
    "        i=2\n",
    "        while True:\n",
    "            try:\n",
    "                values=[worksheet.cell(i, 0).value, state, worksheet.cell(i, 2).value, worksheet.cell(i, 132).value]\n",
    "                df.loc[count]=values\n",
    "                i+=1\n",
    "                count+=1\n",
    "            except:\n",
    "                break\n",
    "    else:\n",
    "        print('data is different', state)"
   ]
  },
  {
   "cell_type": "code",
   "execution_count": null,
   "metadata": {
    "collapsed": true
   },
   "outputs": [],
   "source": [
    "df.fips=pd.Series([str(int(df.fips[i])) for i in df.index], index=df.index)"
   ]
  },
  {
   "cell_type": "code",
   "execution_count": 169,
   "metadata": {},
   "outputs": [
    {
     "data": {
      "text/plain": [
       "True"
      ]
     },
     "execution_count": 169,
     "metadata": {},
     "output_type": "execute_result"
    }
   ],
   "source": [
    "np.isnan(df.loc[29]['rate'])"
   ]
  },
  {
   "cell_type": "code",
   "execution_count": 196,
   "metadata": {},
   "outputs": [],
   "source": [
    "# replace absecnt values with State average values\n",
    "nan_index=[ind for ind in df.index if type(df.rate[ind])==float]"
   ]
  },
  {
   "cell_type": "code",
   "execution_count": null,
   "metadata": {
    "collapsed": true
   },
   "outputs": [],
   "source": [
    "nan_index=[ind for ind in df.index if df.rate[ind]=='0']"
   ]
  },
  {
   "cell_type": "code",
   "execution_count": 220,
   "metadata": {},
   "outputs": [
    {
     "name": "stderr",
     "output_type": "stream",
     "text": [
      "C:\\Users\\vnuretdi\\Anaconda3\\lib\\site-packages\\ipykernel_launcher.py:3: SettingWithCopyWarning: \n",
      "A value is trying to be set on a copy of a slice from a DataFrame\n",
      "\n",
      "See the caveats in the documentation: http://pandas.pydata.org/pandas-docs/stable/indexing.html#indexing-view-versus-copy\n",
      "  This is separate from the ipykernel package so we can avoid doing imports until\n"
     ]
    }
   ],
   "source": [
    "for ind in nan_index:\n",
    "    state_ind=[i for i in df[df.state==df.loc[ind]['state']].index if (type(df.loc[i]['county'])==float)]\n",
    "    df.loc[ind]['rate']=df.loc[state_ind[0]]['rate']\n",
    "    #print(state_ind, df.loc[state_ind[0]]['rate'])"
   ]
  },
  {
   "cell_type": "code",
   "execution_count": null,
   "metadata": {
    "collapsed": true
   },
   "outputs": [],
   "source": [
    "df['rate']=df['rate'].str.replace(',', '')"
   ]
  },
  {
   "cell_type": "code",
   "execution_count": 243,
   "metadata": {},
   "outputs": [],
   "source": [
    "df['rate']=df.rate.astype('int64')"
   ]
  },
  {
   "cell_type": "code",
   "execution_count": 223,
   "metadata": {},
   "outputs": [],
   "source": [
    "df.to_csv(\"crime_county.csv\")"
   ]
  },
  {
   "cell_type": "code",
   "execution_count": 411,
   "metadata": {
    "collapsed": true
   },
   "outputs": [],
   "source": [
    "crime_list=list(df[df.county!='']['violence rate'])"
   ]
  },
  {
   "cell_type": "code",
   "execution_count": 412,
   "metadata": {
    "collapsed": true
   },
   "outputs": [],
   "source": [
    "crime_list=[x for x in crime_list if type(x)==type(crime_list[0])]"
   ]
  },
  {
   "cell_type": "code",
   "execution_count": 404,
   "metadata": {
    "collapsed": true
   },
   "outputs": [],
   "source": [
    "crime_list=crime_list[crime_list!='']"
   ]
  },
  {
   "cell_type": "code",
   "execution_count": 421,
   "metadata": {},
   "outputs": [
    {
     "data": {
      "image/png": "[encoded data removed]",
      "text/plain": [
       "<matplotlib.figure.Figure at 0x24fae66b5c0>"
      ]
     },
     "metadata": {},
     "output_type": "display_data"
    }
   ],
   "source": [
    "plt.hist(crime_list)\n",
    "plt.show()"
   ]
  },
  {
   "cell_type": "code",
   "execution_count": 492,
   "metadata": {
    "collapsed": true
   },
   "outputs": [],
   "source": [
    "rent_list=list(df[df.county!='']['rent'])"
   ]
  },
  {
   "cell_type": "code",
   "execution_count": 493,
   "metadata": {},
   "outputs": [
    {
     "name": "stdout",
     "output_type": "stream",
     "text": [
      "612.0\n",
      "651.0\n",
      "694.0\n",
      "714.0\n",
      "714.0\n",
      "744.0\n",
      "788.0\n",
      "847.7\n",
      "938.0\n",
      "1135.5\n"
     ]
    }
   ],
   "source": [
    "for thr in np.arange(0, 100, 10):\n",
    "    print(np.percentile(rent_list, thr))"
   ]
  },
  {
   "cell_type": "markdown",
   "metadata": {},
   "source": [
    "## Add Rent data"
   ]
  },
  {
   "cell_type": "code",
   "execution_count": 193,
   "metadata": {
    "collapsed": true
   },
   "outputs": [],
   "source": [
    "rent_data=pd.read_csv('FY20_4050_FMRs.csv')"
   ]
  },
  {
   "cell_type": "code",
   "execution_count": 20,
   "metadata": {
    "collapsed": true
   },
   "outputs": [],
   "source": [
    "rent_data.fips2010=pd.Series([str(rent_data.fips2010[i])[:-5] for i in rent_data.index], index=rent_data.index)"
   ]
  },
  {
   "cell_type": "code",
   "execution_count": null,
   "metadata": {
    "collapsed": true
   },
   "outputs": [],
   "source": [
    "rent_data.drop([ind for ind in rent_data.index if rent_data.loc[ind].state_alpha not in list(states['Abbreviation'])], inplace=True)"
   ]
  },
  {
   "cell_type": "code",
   "execution_count": 21,
   "metadata": {
    "collapsed": true
   },
   "outputs": [],
   "source": [
    "rent_data=rent_data[['state_alpha', 'countyname', 'fmr_2', 'fips2010']]"
   ]
  },
  {
   "cell_type": "code",
   "execution_count": 39,
   "metadata": {},
   "outputs": [],
   "source": [
    "rent_data['states']=pd.Series([states.State[list(states.Abbreviation).index(rent_data.loc[ind].state_alpha)]\n",
    "                              for ind in rent_data.index], index=rent_data.index)"
   ]
  },
  {
   "cell_type": "code",
   "execution_count": 72,
   "metadata": {},
   "outputs": [],
   "source": [
    "rent_data=rent_data.set_index('fips2010')"
   ]
  },
  {
   "cell_type": "code",
   "execution_count": 75,
   "metadata": {
    "collapsed": true
   },
   "outputs": [],
   "source": [
    "rent_data.to_csv(\"rent_county.csv\")"
   ]
  },
  {
   "cell_type": "code",
   "execution_count": 73,
   "metadata": {
    "collapsed": true
   },
   "outputs": [],
   "source": [
    "def return_rent(fips):\n",
    "    try: return np.median(rent_data.loc[fips]['fmr_2'])\n",
    "    except: return np.nan"
   ]
  },
  {
   "cell_type": "code",
   "execution_count": 74,
   "metadata": {},
   "outputs": [
    {
     "data": {
      "text/plain": [
       "830.0"
      ]
     },
     "execution_count": 74,
     "metadata": {},
     "output_type": "execute_result"
    }
   ],
   "source": [
    "return_rent('1001')"
   ]
  },
  {
   "cell_type": "code",
   "execution_count": 560,
   "metadata": {
    "collapsed": true
   },
   "outputs": [],
   "source": [
    "df['rent']=pd.Series([return_rent(str(id)) for id in list(df.id)], index=df.index)"
   ]
  },
  {
   "cell_type": "code",
   "execution_count": 562,
   "metadata": {
    "collapsed": true
   },
   "outputs": [],
   "source": [
    "df.to_csv('county_data.csv')"
   ]
  },
  {
   "cell_type": "markdown",
   "metadata": {},
   "source": [
    "## Add temperature data"
   ]
  },
  {
   "cell_type": "code",
   "execution_count": 194,
   "metadata": {
    "collapsed": true
   },
   "outputs": [],
   "source": [
    "temp_data=pd.read_csv('us_temp_short.csv')"
   ]
  },
  {
   "cell_type": "code",
   "execution_count": 47,
   "metadata": {
    "collapsed": true
   },
   "outputs": [],
   "source": [
    "df=pd.read_csv(\"crime_county.csv\")\n",
    "df=df.set_index(\"Unnamed: 0\")"
   ]
  },
  {
   "cell_type": "code",
   "execution_count": 77,
   "metadata": {
    "collapsed": true
   },
   "outputs": [],
   "source": [
    "df['rent']=pd.Series([return_rent(str(id)) for id in list(df.id)], index=df.index)"
   ]
  },
  {
   "cell_type": "code",
   "execution_count": 221,
   "metadata": {},
   "outputs": [
    {
     "data": {
      "text/html": [
       "<div>\n",
       "<style>\n",
       "    .dataframe thead tr:only-child th {\n",
       "        text-align: right;\n",
       "    }\n",
       "\n",
       "    .dataframe thead th {\n",
       "        text-align: left;\n",
       "    }\n",
       "\n",
       "    .dataframe tbody tr th {\n",
       "        vertical-align: top;\n",
       "    }\n",
       "</style>\n",
       "<table border=\"1\" class=\"dataframe\">\n",
       "  <thead>\n",
       "    <tr style=\"text-align: right;\">\n",
       "      <th></th>\n",
       "      <th>id</th>\n",
       "      <th>state</th>\n",
       "      <th>county</th>\n",
       "      <th>rate</th>\n",
       "      <th>CD</th>\n",
       "      <th>rent</th>\n",
       "    </tr>\n",
       "    <tr>\n",
       "      <th>Unnamed: 0</th>\n",
       "      <th></th>\n",
       "      <th></th>\n",
       "      <th></th>\n",
       "      <th></th>\n",
       "      <th></th>\n",
       "      <th></th>\n",
       "    </tr>\n",
       "  </thead>\n",
       "  <tbody>\n",
       "    <tr>\n",
       "      <th>2418</th>\n",
       "      <td>46102</td>\n",
       "      <td>South Dakota</td>\n",
       "      <td>Oglala Lakota</td>\n",
       "      <td>373</td>\n",
       "      <td>5.0</td>\n",
       "      <td>714.0</td>\n",
       "    </tr>\n",
       "  </tbody>\n",
       "</table>\n",
       "</div>"
      ],
      "text/plain": [
       "               id         state         county rate   CD   rent\n",
       "Unnamed: 0                                                     \n",
       "2418        46102  South Dakota  Oglala Lakota  373  5.0  714.0"
      ]
     },
     "execution_count": 221,
     "metadata": {},
     "output_type": "execute_result"
    }
   ],
   "source": [
    "df[df.id==46102]"
   ]
  },
  {
   "cell_type": "code",
   "execution_count": 224,
   "metadata": {},
   "outputs": [
    {
     "data": {
      "text/html": [
       "<div>\n",
       "<style>\n",
       "    .dataframe thead tr:only-child th {\n",
       "        text-align: right;\n",
       "    }\n",
       "\n",
       "    .dataframe thead th {\n",
       "        text-align: left;\n",
       "    }\n",
       "\n",
       "    .dataframe tbody tr th {\n",
       "        vertical-align: top;\n",
       "    }\n",
       "</style>\n",
       "<table border=\"1\" class=\"dataframe\">\n",
       "  <thead>\n",
       "    <tr style=\"text-align: right;\">\n",
       "      <th></th>\n",
       "      <th>State</th>\n",
       "      <th>CD num</th>\n",
       "      <th>month</th>\n",
       "      <th>temp</th>\n",
       "    </tr>\n",
       "  </thead>\n",
       "  <tbody>\n",
       "    <tr>\n",
       "      <th>0</th>\n",
       "      <td>Alabama</td>\n",
       "      <td>1</td>\n",
       "      <td>1</td>\n",
       "      <td>40.190909</td>\n",
       "    </tr>\n",
       "    <tr>\n",
       "      <th>1</th>\n",
       "      <td>Alabama</td>\n",
       "      <td>1</td>\n",
       "      <td>2</td>\n",
       "      <td>44.830000</td>\n",
       "    </tr>\n",
       "    <tr>\n",
       "      <th>2</th>\n",
       "      <td>Alabama</td>\n",
       "      <td>1</td>\n",
       "      <td>3</td>\n",
       "      <td>51.910000</td>\n",
       "    </tr>\n",
       "    <tr>\n",
       "      <th>3</th>\n",
       "      <td>Alabama</td>\n",
       "      <td>1</td>\n",
       "      <td>4</td>\n",
       "      <td>61.170000</td>\n",
       "    </tr>\n",
       "    <tr>\n",
       "      <th>4</th>\n",
       "      <td>Alabama</td>\n",
       "      <td>1</td>\n",
       "      <td>5</td>\n",
       "      <td>69.390000</td>\n",
       "    </tr>\n",
       "  </tbody>\n",
       "</table>\n",
       "</div>"
      ],
      "text/plain": [
       "     State  CD num  month       temp\n",
       "0  Alabama       1      1  40.190909\n",
       "1  Alabama       1      2  44.830000\n",
       "2  Alabama       1      3  51.910000\n",
       "3  Alabama       1      4  61.170000\n",
       "4  Alabama       1      5  69.390000"
      ]
     },
     "execution_count": 224,
     "metadata": {},
     "output_type": "execute_result"
    }
   ],
   "source": [
    "temp_data.head()"
   ]
  },
  {
   "cell_type": "code",
   "execution_count": 225,
   "metadata": {
    "collapsed": true
   },
   "outputs": [],
   "source": [
    "def return_temp(i, month):\n",
    "    try:\n",
    "        return np.float(temp_data[(temp_data.State==df.loc[i].state)&(temp_data[\"CD num\"]==df.loc[i].CD)&(temp_data.month==month)]['temp'])\n",
    "    except:\n",
    "        return np. nan"
   ]
  },
  {
   "cell_type": "code",
   "execution_count": 226,
   "metadata": {
    "collapsed": true
   },
   "outputs": [],
   "source": [
    "for month in range(1, 13):\n",
    "    df[month]=pd.Series([return_temp(i, month) for i in df.index], index=df.index)"
   ]
  },
  {
   "cell_type": "code",
   "execution_count": 244,
   "metadata": {},
   "outputs": [
    {
     "data": {
      "text/html": [
       "<div>\n",
       "<style>\n",
       "    .dataframe thead tr:only-child th {\n",
       "        text-align: right;\n",
       "    }\n",
       "\n",
       "    .dataframe thead th {\n",
       "        text-align: left;\n",
       "    }\n",
       "\n",
       "    .dataframe tbody tr th {\n",
       "        vertical-align: top;\n",
       "    }\n",
       "</style>\n",
       "<table border=\"1\" class=\"dataframe\">\n",
       "  <thead>\n",
       "    <tr style=\"text-align: right;\">\n",
       "      <th></th>\n",
       "      <th>id</th>\n",
       "      <th>state</th>\n",
       "      <th>county</th>\n",
       "      <th>rate</th>\n",
       "      <th>CD</th>\n",
       "      <th>rent</th>\n",
       "      <th>1</th>\n",
       "      <th>2</th>\n",
       "      <th>3</th>\n",
       "      <th>4</th>\n",
       "      <th>5</th>\n",
       "      <th>6</th>\n",
       "      <th>7</th>\n",
       "      <th>8</th>\n",
       "      <th>9</th>\n",
       "      <th>10</th>\n",
       "      <th>11</th>\n",
       "      <th>12</th>\n",
       "    </tr>\n",
       "    <tr>\n",
       "      <th>Unnamed: 0</th>\n",
       "      <th></th>\n",
       "      <th></th>\n",
       "      <th></th>\n",
       "      <th></th>\n",
       "      <th></th>\n",
       "      <th></th>\n",
       "      <th></th>\n",
       "      <th></th>\n",
       "      <th></th>\n",
       "      <th></th>\n",
       "      <th></th>\n",
       "      <th></th>\n",
       "      <th></th>\n",
       "      <th></th>\n",
       "      <th></th>\n",
       "      <th></th>\n",
       "      <th></th>\n",
       "      <th></th>\n",
       "    </tr>\n",
       "  </thead>\n",
       "  <tbody>\n",
       "    <tr>\n",
       "      <th>0</th>\n",
       "      <td>1000</td>\n",
       "      <td>Alabama</td>\n",
       "      <td>NaN</td>\n",
       "      <td>480</td>\n",
       "      <td>NaN</td>\n",
       "      <td>NaN</td>\n",
       "      <td>NaN</td>\n",
       "      <td>NaN</td>\n",
       "      <td>NaN</td>\n",
       "      <td>NaN</td>\n",
       "      <td>NaN</td>\n",
       "      <td>NaN</td>\n",
       "      <td>NaN</td>\n",
       "      <td>NaN</td>\n",
       "      <td>NaN</td>\n",
       "      <td>NaN</td>\n",
       "      <td>NaN</td>\n",
       "      <td>NaN</td>\n",
       "    </tr>\n",
       "    <tr>\n",
       "      <th>1</th>\n",
       "      <td>1001</td>\n",
       "      <td>Alabama</td>\n",
       "      <td>Autauga</td>\n",
       "      <td>272</td>\n",
       "      <td>3.0</td>\n",
       "      <td>830.0</td>\n",
       "      <td>43.209091</td>\n",
       "      <td>48.18</td>\n",
       "      <td>54.86</td>\n",
       "      <td>63.16</td>\n",
       "      <td>70.89</td>\n",
       "      <td>78.35</td>\n",
       "      <td>80.58</td>\n",
       "      <td>79.88</td>\n",
       "      <td>75.45</td>\n",
       "      <td>64.26</td>\n",
       "      <td>52.16</td>\n",
       "      <td>47.55</td>\n",
       "    </tr>\n",
       "    <tr>\n",
       "      <th>2</th>\n",
       "      <td>1003</td>\n",
       "      <td>Alabama</td>\n",
       "      <td>Baldwin</td>\n",
       "      <td>204</td>\n",
       "      <td>8.0</td>\n",
       "      <td>916.0</td>\n",
       "      <td>50.518182</td>\n",
       "      <td>55.36</td>\n",
       "      <td>60.79</td>\n",
       "      <td>67.11</td>\n",
       "      <td>74.24</td>\n",
       "      <td>80.53</td>\n",
       "      <td>81.99</td>\n",
       "      <td>81.67</td>\n",
       "      <td>78.57</td>\n",
       "      <td>69.02</td>\n",
       "      <td>58.49</td>\n",
       "      <td>54.64</td>\n",
       "    </tr>\n",
       "    <tr>\n",
       "      <th>3</th>\n",
       "      <td>1005</td>\n",
       "      <td>Alabama</td>\n",
       "      <td>Barbour</td>\n",
       "      <td>414</td>\n",
       "      <td>7.0</td>\n",
       "      <td>633.0</td>\n",
       "      <td>47.918182</td>\n",
       "      <td>52.93</td>\n",
       "      <td>58.79</td>\n",
       "      <td>65.61</td>\n",
       "      <td>72.99</td>\n",
       "      <td>79.61</td>\n",
       "      <td>81.35</td>\n",
       "      <td>80.85</td>\n",
       "      <td>77.37</td>\n",
       "      <td>67.09</td>\n",
       "      <td>55.92</td>\n",
       "      <td>52.14</td>\n",
       "    </tr>\n",
       "    <tr>\n",
       "      <th>4</th>\n",
       "      <td>1007</td>\n",
       "      <td>Alabama</td>\n",
       "      <td>Bibb</td>\n",
       "      <td>89</td>\n",
       "      <td>3.0</td>\n",
       "      <td>986.0</td>\n",
       "      <td>43.209091</td>\n",
       "      <td>48.18</td>\n",
       "      <td>54.86</td>\n",
       "      <td>63.16</td>\n",
       "      <td>70.89</td>\n",
       "      <td>78.35</td>\n",
       "      <td>80.58</td>\n",
       "      <td>79.88</td>\n",
       "      <td>75.45</td>\n",
       "      <td>64.26</td>\n",
       "      <td>52.16</td>\n",
       "      <td>47.55</td>\n",
       "    </tr>\n",
       "  </tbody>\n",
       "</table>\n",
       "</div>"
      ],
      "text/plain": [
       "              id    state   county  rate   CD   rent          1      2      3  \\\n",
       "Unnamed: 0                                                                      \n",
       "0           1000  Alabama      NaN   480  NaN    NaN        NaN    NaN    NaN   \n",
       "1           1001  Alabama  Autauga   272  3.0  830.0  43.209091  48.18  54.86   \n",
       "2           1003  Alabama  Baldwin   204  8.0  916.0  50.518182  55.36  60.79   \n",
       "3           1005  Alabama  Barbour   414  7.0  633.0  47.918182  52.93  58.79   \n",
       "4           1007  Alabama     Bibb    89  3.0  986.0  43.209091  48.18  54.86   \n",
       "\n",
       "                4      5      6      7      8      9     10     11     12  \n",
       "Unnamed: 0                                                                 \n",
       "0             NaN    NaN    NaN    NaN    NaN    NaN    NaN    NaN    NaN  \n",
       "1           63.16  70.89  78.35  80.58  79.88  75.45  64.26  52.16  47.55  \n",
       "2           67.11  74.24  80.53  81.99  81.67  78.57  69.02  58.49  54.64  \n",
       "3           65.61  72.99  79.61  81.35  80.85  77.37  67.09  55.92  52.14  \n",
       "4           63.16  70.89  78.35  80.58  79.88  75.45  64.26  52.16  47.55  "
      ]
     },
     "execution_count": 244,
     "metadata": {},
     "output_type": "execute_result"
    }
   ],
   "source": [
    "df.head()"
   ]
  },
  {
   "cell_type": "code",
   "execution_count": 246,
   "metadata": {},
   "outputs": [],
   "source": [
    "df.to_csv('county_data.csv')"
   ]
  },
  {
   "cell_type": "code",
   "execution_count": null,
   "metadata": {
    "collapsed": true
   },
   "outputs": [],
   "source": []
  }
 ],
 "metadata": {
  "kernelspec": {
   "display_name": "Python 3",
   "language": "python",
   "name": "python3"
  },
  "language_info": {
   "codemirror_mode": {
    "name": "ipython",
    "version": 3
   },
   "file_extension": ".py",
   "mimetype": "text/x-python",
   "name": "python",
   "nbconvert_exporter": "python",
   "pygments_lexer": "ipython3",
   "version": "3.6.1"
  }
 },
 "nbformat": 4,
 "nbformat_minor": 2
}
