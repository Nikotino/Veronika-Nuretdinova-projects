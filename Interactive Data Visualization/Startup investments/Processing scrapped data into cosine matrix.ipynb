{
 "cells": [
  {
   "cell_type": "code",
   "execution_count": 1,
   "metadata": {
    "collapsed": true
   },
   "outputs": [],
   "source": [
    "import pandas as pd\n",
    "import numpy as np\n",
    "import json"
   ]
  },
  {
   "cell_type": "code",
   "execution_count": 2,
   "metadata": {
    "collapsed": true
   },
   "outputs": [],
   "source": [
    "from sklearn.metrics.pairwise import cosine_similarity"
   ]
  },
  {
   "cell_type": "code",
   "execution_count": 4,
   "metadata": {},
   "outputs": [],
   "source": [
    "crunchbase=pd.read_csv('crunchbase_complete.csv')\n",
    "crunchbase=crunchbase.set_index(\"Unnamed: 0\")"
   ]
  },
  {
   "cell_type": "code",
   "execution_count": 6,
   "metadata": {
    "collapsed": true
   },
   "outputs": [],
   "source": [
    "industries_list=[x.split(\",\") for x in crunchbase.industry]"
   ]
  },
  {
   "cell_type": "code",
   "execution_count": 7,
   "metadata": {
    "collapsed": true
   },
   "outputs": [],
   "source": [
    "## fix the empties\n",
    "for i in range(len(industries_list)):\n",
    "        industries_list[i]=[x for x in industries_list[i] if len(x)>0]\n",
    "        industries_list[i]=[str(industries_list[i][j])[1:]  \n",
    "                            if str(industries_list[i][j])[0]==' ' else industries_list[i][j]\n",
    "                           for j in range(len(industries_list[i]))\n",
    "                           ]"
   ]
  },
  {
   "cell_type": "code",
   "execution_count": 8,
   "metadata": {
    "collapsed": true
   },
   "outputs": [],
   "source": [
    "year_ind={}\n",
    "for year in range(2012, 2020):\n",
    "    year_ind[year]=list(crunchbase[crunchbase.year==year].index)"
   ]
  },
  {
   "cell_type": "code",
   "execution_count": 57,
   "metadata": {},
   "outputs": [],
   "source": [
    "keys=list(np.unique([x for y in industries_list for x in y]))"
   ]
  },
  {
   "cell_type": "code",
   "execution_count": 12,
   "metadata": {
    "collapsed": true
   },
   "outputs": [],
   "source": [
    "industries_values=pd.DataFrame(index=keys)"
   ]
  },
  {
   "cell_type": "code",
   "execution_count": 13,
   "metadata": {
    "collapsed": true
   },
   "outputs": [],
   "source": [
    "for year in range(2012, 2020):\n",
    "    for key in industries_values.index:\n",
    "        industries_values.loc[key, year]=np.sum([crunchbase['usd_value'][ind] \n",
    "                                       for ind in year_ind[year] if key in industries_list[ind]])/10**6"
   ]
  },
  {
   "cell_type": "code",
   "execution_count": 36,
   "metadata": {
    "collapsed": true
   },
   "outputs": [],
   "source": [
    "def growth_calc(industry):\n",
    "    first_year=[x for x in industries_values.loc[industry] if x!=0][0]\n",
    "    return np.float(industries_values.loc[industry][2019]/first_year)**(1/7)"
   ]
  },
  {
   "cell_type": "code",
   "execution_count": 37,
   "metadata": {},
   "outputs": [],
   "source": [
    "industries_values['growth']=pd.Series([growth_calc(industry) for industry in industries_values.index], \n",
    "                                      index=industries_values.index)"
   ]
  },
  {
   "cell_type": "code",
   "execution_count": 62,
   "metadata": {
    "collapsed": true
   },
   "outputs": [],
   "source": [
    "top_industries=[]\n",
    "for year in range(2012, 2020):\n",
    "    top_industries.extend(list(industries_values.sort_values(year)[::-1].iloc[:50,:].index))\n",
    "top_industries=list(np.unique(top_industries))"
   ]
  },
  {
   "cell_type": "code",
   "execution_count": 83,
   "metadata": {
    "scrolled": true
   },
   "outputs": [
    {
     "name": "stdout",
     "output_type": "stream",
     "text": [
      "0 -0.452590053517\n",
      "25 -0.171400834809\n",
      "50 -0.0645641629331\n",
      "75 -0.0408702364834\n"
     ]
    }
   ],
   "source": [
    "for x in list(np.arange(0,100,25)):\n",
    "    print(x, np.percentile(list(industries_values.loc[top_industries]['growth'][industries_values.growth<1]), x)-1)"
   ]
  },
  {
   "cell_type": "code",
   "execution_count": 44,
   "metadata": {
    "collapsed": true
   },
   "outputs": [],
   "source": [
    "def get_companies(key, year):\n",
    "    result=[]\n",
    "    ind=[i for i in range(len(industries_list)) if key in industries_list[i]]\n",
    "    companies=crunchbase.loc[ind].groupby(['year', 'company']).sum()['usd_value']/10**6\n",
    "    companies=companies[year].sort_values()[::-1]\n",
    "    companies=companies[companies>1]\n",
    "    companies_dict=dict(companies.iloc[:20])\n",
    "    \n",
    "    for company in companies_dict.keys():\n",
    "        investors=list(crunchbase.loc[ind][(crunchbase.company==company)&(crunchbase.year==year)]['lead_investors'])\n",
    "        if '—' in investors:\n",
    "            investors.remove('—')\n",
    "        result.append({'company': company, 'value': companies_dict[company], \n",
    "                       'investors': ', '.join(investors),\n",
    "                       'descr':list(crunchbase.loc[ind][crunchbase.company==company]['descrip'])[0]})\n",
    "    return result"
   ]
  },
  {
   "cell_type": "code",
   "execution_count": 58,
   "metadata": {
    "collapsed": true
   },
   "outputs": [],
   "source": [
    "cosine_matrix={}\n",
    "cosine_matrix_short={}\n",
    "tf_idf = {}\n",
    "nodes={}"
   ]
  },
  {
   "cell_type": "code",
   "execution_count": null,
   "metadata": {},
   "outputs": [],
   "source": [
    "#old_keys_short=[]\n",
    "\n",
    "for year in range(2012, 2020):\n",
    "    keys_short=list(industries_values.sort_values(year, ascending=False).iloc[:50].index)\n",
    "    \n",
    "    keys_short.extend(new_keys_short)\n",
    "    keys_short=list(np.unique(keys_short))\n",
    "    \n",
    "    order=list(industries_values.sort_values(year, ascending=False).index)\n",
    "    keys_short=[x for x in keys_short if order.index(x)<100]\n",
    "    \n",
    "    tf_idf[year]=pd.read_csv(str('tf_idf_'+str(year)+'.csv')).iloc[:,1:]\n",
    "    print(tf_idf[year].shape)\n",
    "    \n",
    "    x_cos=cosine_similarity(tf_idf[year], tf_idf[year])\n",
    "    cosine_matrix[year]=pd.DataFrame(x_cos, columns=keys, index=keys)\n",
    "        \n",
    "    cos_sim_short=cosine_matrix[year].loc[keys_short, keys_short]\n",
    "    cos_sim_short.to_csv(str('cos_sim_'+str(year)+'.csv'))\n",
    "    \n",
    "    cos_sim_short=pd.read_csv(str('cos_sim_'+str(year)+'.csv')).iloc[:,1:]\n",
    "    nodes[year]={\"nodes\":[], \"links\":[]}\n",
    "\n",
    "    for key in keys_short:\n",
    "        try: \n",
    "            companies=get_companies(key, year)\n",
    "        except:\n",
    "            companies=[]\n",
    "            \n",
    "        nodes[year]['nodes'].append({'name':key, 'radius': int(np.sqrt(industries_values.loc[key, year])), \n",
    "                                     'growth': industries_values.loc[key, 'growth'],\n",
    "                                    'companies': companies})        \n",
    "        \n",
    "\n",
    "    for i, key in enumerate(keys_short):\n",
    "        for j, h_key in enumerate(keys_short[i:]):\n",
    "            if (i!=j+i)&(cos_sim_short.loc[key, h_key]>=0.1):\n",
    "                nodes[year]['links'].append({\"source\":i,\"target\":j+i,\"value\":cos_sim_short.loc[key, h_key]})            \n",
    "    \n",
    "    with open(str('nodes.json'), 'w') as outfile:\n",
    "        json.dump(nodes, outfile)"
   ]
  },
  {
   "cell_type": "code",
   "execution_count": 22,
   "metadata": {
    "collapsed": true
   },
   "outputs": [],
   "source": [
    "industry_type={'Association':'E-Commerce', 'E-Commerce':'E-Commerce', 'Fashion': 'E-Commerce', 'Internet': 'E-Commerce',\n",
    "               'Food Delivery':'E-Commerce', 'Delivery':'E-Commerce', 'Marketplace':'E-Commerce', 'Grocery':'E-Commerce',\n",
    "               \n",
    "              'Medical': 'Medical', 'Medical Device':'Medical', 'Medical Device':'Medical', 'Health Care': 'Medical', 'Biopharma': 'Medical',\n",
    "               'Health Diagnostics':'Medical', 'Biotechnology':'Medical', 'Pharmaceutical':'Medical', 'Emergency Medicine':'Medical',\n",
    "               \n",
    "               'Information Technology':'IT', 'Apps':'IT', \n",
    "               'Software': 'IT', 'Enterprise Software': 'IT', 'Mobile Apps':'IT', 'Information Services':'IT', \n",
    "               \n",
    "               'Finance':'Finance', 'Financial Services':'Finance', 'FinTech':'Finance', 'Banking':'Finance', 'Blockchain':'Finance',\n",
    "               \n",
    "              'Oil and Gas':'Energy & Natural Resources', 'Clean Energy':'Energy & Natural Resources','Energy':'Energy & Natural Resources',\n",
    "               'Natural Resources':'Energy & Natural Resources', \n",
    "              'Renewable Energy':'Energy & Natural Resources', 'Mining':'Energy & Natural Resources', 'Precious Metals':'Energy & Natural Resources',\n",
    "               \n",
    "               'Public Transportation':'Transportation', 'Ride Sharing':'Transportation',\n",
    "               'Logistics':'Transportation', 'Automotive':'Transportation', 'Transportation':'Transportation',\n",
    "               'Car Sharing':'Transportation', 'Autonomous Vehicles':'Transportation',\n",
    "              \n",
    "               'Insurance':'Insurance', 'Auto Insurance': 'Insurance', 'Property Insurance': 'Insurance',\n",
    "              \n",
    "               'Analytics':'AI & Big Data', 'Big Data': 'AI & Big Data', 'Cloud Computing':'AI & Big Data', 'Cloud Data Services':'AI & Big Data',\n",
    "              \n",
    "               'Artificial Intelligence':'AI & Big Data', 'Database':'AI & Big Data', 'Data Storage':'AI & Big Data', \n",
    "               'Data Center':'AI & Big Data'}"
   ]
  },
  {
   "cell_type": "code",
   "execution_count": 42,
   "metadata": {
    "collapsed": true
   },
   "outputs": [],
   "source": [
    "def get_companies(key, year, stage):\n",
    "    result=[]\n",
    "    ind=[i for i in range(len(industries_list)) if (key in industries_list[i])&(crunchbase.funding_type[i] in stages[stage])]\n",
    "    companies=crunchbase.loc[ind].groupby(['year', 'company']).sum()['usd_value']/10**6\n",
    "    companies=companies[year].sort_values()[::-1]\n",
    "    companies=companies[companies>1]\n",
    "    companies_dict=dict(companies.iloc[:20])\n",
    "    \n",
    "    for company in companies_dict.keys():\n",
    "        investors=list(crunchbase.loc[ind][(crunchbase.company==company)&(crunchbase.year==year)]['lead_investors'])\n",
    "        if '—' in investors:\n",
    "            investors.remove('—')\n",
    "        result.append({'company': company, 'value': companies_dict[company], \n",
    "                       'investors': ', '.join(investors),\n",
    "                       'descr':list(crunchbase.loc[ind][crunchbase.company==company]['descrip'])[0]})\n",
    "    return result"
   ]
  },
  {
   "cell_type": "code",
   "execution_count": 43,
   "metadata": {
    "collapsed": true
   },
   "outputs": [],
   "source": [
    "def industry_group(k):\n",
    "    try: return industry_type[k]\n",
    "    except: return 'Other'"
   ]
  },
  {
   "cell_type": "code",
   "execution_count": 36,
   "metadata": {
    "collapsed": true
   },
   "outputs": [],
   "source": [
    "dataset=pd.DataFrame()\n",
    "\n",
    "for year in range(2012, 2020):\n",
    "    for s in range(len(stages)):\n",
    "        dataset=pd.concat([dataset, crunchbase_group.loc[year].loc[s].sort_values('usd_value')[::-1].iloc[:15]])\n",
    "dataset['group']=pd.Series([industry_group(key) for key in dataset.index], index=dataset.index)\n",
    "order=list(dataset.groupby('group').sum()['usd_value'].sort_values(ascending=False).index)"
   ]
  },
  {
   "cell_type": "code",
   "execution_count": 41,
   "metadata": {},
   "outputs": [
    {
     "name": "stderr",
     "output_type": "stream",
     "text": [
      "C:\\Users\\vnuretdi\\Anaconda3\\lib\\site-packages\\ipykernel_launcher.py:10: UserWarning: Boolean Series key will be reindexed to match DataFrame index.\n",
      "  # Remove the CWD from sys.path while we load stuff.\n",
      "C:\\Users\\vnuretdi\\Anaconda3\\lib\\site-packages\\ipykernel_launcher.py:15: UserWarning: Boolean Series key will be reindexed to match DataFrame index.\n",
      "  from ipykernel import kernelapp as app\n"
     ]
    }
   ],
   "source": [
    "top_industries={}\n",
    "for year in range(2012, 2020):\n",
    "    \n",
    "    top_industries[year]={}\n",
    "    dataset=pd.DataFrame()\n",
    "      \n",
    "    #order of groups on chart\n",
    "    \n",
    "    for s in range(len(stages)):\n",
    "        top_industries[year][s]={'order': []}\n",
    "        dataset=crunchbase_group.loc[year].loc[s].sort_values('usd_value')[::-1].iloc[:15]\n",
    "        dataset['group']=pd.Series([industry_group(key) for key in dataset.index], index=dataset.index)\n",
    "        \n",
    "        for group in order:\n",
    "            industries=[]\n",
    "            dataset_group=dataset[dataset['group']==group].sort_values('usd_value')[::-1]\n",
    "            for i, key in enumerate(list(dataset_group.index)):\n",
    "                \n",
    "                try: \n",
    "                    companies=get_companies(key, year, s)\n",
    "                except:\n",
    "                    companies=[]\n",
    "                \n",
    "                industries.append({'stage':s, 'name':key, 'group': industry_group(key), \n",
    "                                   'companies': companies,\n",
    "                                   'value':np.round(np.float(dataset.loc[key]['usd_value']), 1), \n",
    "                                   'radius': np.round(np.float(np.sqrt(dataset.loc[key]['usd_value'])), 1)})\n",
    "                \n",
    "            top_industries[year][s]['order'].append({'group':group, 'industry':industries})"
   ]
  },
  {
   "cell_type": "code",
   "execution_count": 42,
   "metadata": {
    "collapsed": true
   },
   "outputs": [],
   "source": [
    "with open(str('top_industries.json'), 'w') as outfile:\n",
    "        json.dump(top_industries, outfile)"
   ]
  },
  {
   "cell_type": "code",
   "execution_count": null,
   "metadata": {
    "collapsed": true
   },
   "outputs": [],
   "source": []
  }
 ],
 "metadata": {
  "kernelspec": {
   "display_name": "Python 3",
   "language": "python",
   "name": "python3"
  },
  "language_info": {
   "codemirror_mode": {
    "name": "ipython",
    "version": 3
   },
   "file_extension": ".py",
   "mimetype": "text/x-python",
   "name": "python",
   "nbconvert_exporter": "python",
   "pygments_lexer": "ipython3",
   "version": "3.7.6"
  }
 },
 "nbformat": 4,
 "nbformat_minor": 2
}
