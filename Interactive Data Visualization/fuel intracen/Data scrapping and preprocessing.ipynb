{
 "cells": [
  {
   "cell_type": "code",
   "execution_count": 1,
   "metadata": {
    "collapsed": true
   },
   "outputs": [],
   "source": [
    "import json"
   ]
  },
  {
   "cell_type": "code",
   "execution_count": 2,
   "metadata": {
    "collapsed": true
   },
   "outputs": [],
   "source": [
    "import pandas as pd\n",
    "import numpy as np"
   ]
  },
  {
   "cell_type": "code",
   "execution_count": null,
   "metadata": {
    "collapsed": true
   },
   "outputs": [],
   "source": [
    "with open('fuel_intracen.json') as json_file:\n",
    "    intracen = json.load(json_file)"
   ]
  },
  {
   "cell_type": "code",
   "execution_count": null,
   "metadata": {},
   "outputs": [],
   "source": [
    "coords=pd.read_csv('coords_1.csv').iloc[:,1:]"
   ]
  },
  {
   "cell_type": "code",
   "execution_count": null,
   "metadata": {},
   "outputs": [],
   "source": [
    "for country in intracen.keys():\n",
    "    for year in intracen[country]:\n",
    "            intracen[country][str(year)]['sources']=[intracen[country][str(year)]['sources'][i] for i in np.argsort(intracen[country][str(year)]['values'])][::-1]\n",
    "            intracen[country][str(year)]['values']=list(np.sort(intracen[country][str(year)]['values'])[::-1])\n",
    "            \n",
    "            ind=[x for x in intracen[country][str(year)]['values'] if x>10**5]\n",
    "            \n",
    "            intracen[country][str(year)]['sources']=intracen[country][str(year)]['sources'][:len(ind)]\n",
    "            intracen[country][str(year)]['values']=intracen[country][str(year)]['values'][:len(ind)]"
   ]
  },
  {
   "cell_type": "code",
   "execution_count": null,
   "metadata": {
    "collapsed": true
   },
   "outputs": [],
   "source": [
    "for country in intracen.keys():\n",
    "    for year in intracen[country]:\n",
    "        ind=[i for i in range(len(intracen[country][str(year)]['sources'])) if intracen[country][str(year)]['sources'][i]\n",
    "            not in list(coords.country)]\n",
    "        \n",
    "        intracen[country][str(year)]['sources']=[intracen[country][str(year)]['sources'][i] \n",
    "                                                 for i in range(len(intracen[country][str(year)]['sources']))if i not in ind]\n",
    "        intracen[country][str(year)]['values']=[intracen[country][str(year)]['values'][i]\n",
    "                                        for i in range(len(intracen[country][str(year)]['values'])) if i not in ind]"
   ]
  },
  {
   "cell_type": "code",
   "execution_count": null,
   "metadata": {
    "collapsed": true
   },
   "outputs": [],
   "source": [
    "for country in intracen.keys():\n",
    "    for year in intracen[country]:\n",
    "        \n",
    "        intracen[country][str(year)]['values']=[int(x) for x in intracen[country][str(year)]['values']]"
   ]
  },
  {
   "cell_type": "code",
   "execution_count": null,
   "metadata": {
    "collapsed": true
   },
   "outputs": [],
   "source": [
    "all_exporters=[]\n",
    "for country in intracen.keys():\n",
    "    for year in intracen[country]:\n",
    "        all_exporters.extend(intracen[country][str(year)]['sources'])"
   ]
  },
  {
   "cell_type": "code",
   "execution_count": null,
   "metadata": {
    "collapsed": true
   },
   "outputs": [],
   "source": [
    "all_exporters=list(np.unique(all_exporters))"
   ]
  },
  {
   "cell_type": "code",
   "execution_count": null,
   "metadata": {},
   "outputs": [],
   "source": [
    "exporters=pd.read_csv('oil exporters.csv')"
   ]
  },
  {
   "cell_type": "code",
   "execution_count": null,
   "metadata": {
    "collapsed": true
   },
   "outputs": [],
   "source": [
    "importers=pd.read_csv('oil importers.csv')"
   ]
  },
  {
   "cell_type": "code",
   "execution_count": null,
   "metadata": {},
   "outputs": [],
   "source": [
    "importers=list(importers.Importers)[:20]"
   ]
  },
  {
   "cell_type": "code",
   "execution_count": null,
   "metadata": {
    "collapsed": true
   },
   "outputs": [],
   "source": [
    "importers.sort()"
   ]
  },
  {
   "cell_type": "code",
   "execution_count": null,
   "metadata": {},
   "outputs": [],
   "source": [
    "exporters=list(exporters.Exporters)[:20]"
   ]
  },
  {
   "cell_type": "code",
   "execution_count": null,
   "metadata": {
    "collapsed": true
   },
   "outputs": [],
   "source": [
    "exporters.sort()"
   ]
  },
  {
   "cell_type": "code",
   "execution_count": null,
   "metadata": {},
   "outputs": [],
   "source": [
    "exporters"
   ]
  },
  {
   "cell_type": "code",
   "execution_count": null,
   "metadata": {
    "collapsed": true
   },
   "outputs": [],
   "source": [
    "fuel_intracen={}\n",
    "for year in range(2001, 2019):\n",
    "    fuel_intracen[str(year)]=[]"
   ]
  },
  {
   "cell_type": "code",
   "execution_count": null,
   "metadata": {},
   "outputs": [],
   "source": [
    "## Regroup for easier filtering\n",
    "\n",
    "for country in intracen.keys():\n",
    "    for year in intracen[country]:        \n",
    "        \n",
    "        sources=[]\n",
    "        for i in range(len(intracen[country][str(year)]['sources'])):\n",
    "            sources.append({'source': intracen[country][year]['sources'][i], \n",
    "                                                 'value':intracen[country][year]['values'][i]})\n",
    "            \n",
    "        \n",
    "        fuel_intracen[year].append({'target':country, 'sources': sources})"
   ]
  },
  {
   "cell_type": "code",
   "execution_count": null,
   "metadata": {},
   "outputs": [],
   "source": [
    "with open('fuel_intracen_adj.json', 'w') as outfile:\n",
    "    json.dump(fuel_intracen, outfile)"
   ]
  },
  {
   "cell_type": "code",
   "execution_count": null,
   "metadata": {},
   "outputs": [],
   "source": [
    "fuel_intracen['2001'][0]"
   ]
  },
  {
   "cell_type": "code",
   "execution_count": 5,
   "metadata": {},
   "outputs": [],
   "source": [
    "exporters=pd.read_csv('oil exporters.csv')\n",
    "exporters=exporters.transpose()\n",
    "exporters.columns=exporters.iloc[0,:]\n",
    "exporters=exporters.iloc[1:,:]\n",
    "exporters.to_csv('oil exporters.csv')"
   ]
  },
  {
   "cell_type": "code",
   "execution_count": 14,
   "metadata": {},
   "outputs": [],
   "source": [
    "importers=pd.read_csv('oil importers.csv')\n",
    "importers=importers.transpose()\n",
    "importers.columns=importers.iloc[0,:]\n",
    "importers=importers.iloc[1:,:]\n",
    "importers.to_csv('oil importers.csv')"
   ]
  },
  {
   "cell_type": "code",
   "execution_count": 21,
   "metadata": {
    "collapsed": true
   },
   "outputs": [],
   "source": [
    "\n"
   ]
  },
  {
   "cell_type": "code",
   "execution_count": 51,
   "metadata": {},
   "outputs": [],
   "source": [
    "exporters=pd.read_csv('oil exporters.csv')\n",
    "exporters=exporters.set_index('Unnamed: 0')\n",
    "exporters=exporters.fillna('0')\n",
    "exporters=pd.DataFrame([[int(exporters.iloc[i,j].replace(',','')) for i in range(exporters.shape[0])] \n",
    "                       for j in range(exporters.shape[1])], columns=range(2001, 2019), index=exporters.columns)"
   ]
  },
  {
   "cell_type": "code",
   "execution_count": 59,
   "metadata": {},
   "outputs": [],
   "source": [
    "importers=pd.read_csv('oil importers.csv')\n",
    "importers=importers.set_index('Unnamed: 0')\n",
    "importers=importers.fillna('0')\n",
    "importers=pd.DataFrame([[int(importers.iloc[i,j].replace(',','')) for i in range(importers.shape[0])] \n",
    "                       for j in range(importers.shape[1])], columns=range(2001, 2019), index=importers.columns)"
   ]
  },
  {
   "cell_type": "code",
   "execution_count": 87,
   "metadata": {},
   "outputs": [],
   "source": [
    "exporters_json={}\n",
    "for year in range(2001, 2019):\n",
    "    exporters_json[year]=[]\n",
    "    values=exporters[year].sort_values(ascending=False)[:20]\n",
    "    for i in range(len(values)):\n",
    "        exporters_json[year].append({\"country\": values.index[i], \"value\": int(values[i])})        "
   ]
  },
  {
   "cell_type": "code",
   "execution_count": 88,
   "metadata": {
    "collapsed": true
   },
   "outputs": [],
   "source": [
    "import json\n",
    "with open('exporters_json.json', 'w') as outfile:\n",
    "    json.dump(exporters_json, outfile)"
   ]
  },
  {
   "cell_type": "code",
   "execution_count": 89,
   "metadata": {},
   "outputs": [],
   "source": [
    "importers_json={}\n",
    "for year in range(2001, 2019):\n",
    "    importers_json[year]=[]\n",
    "    values=importers[year].sort_values(ascending=False)[:20]\n",
    "    for i in range(len(values)):\n",
    "        importers_json[year].append({\"country\": values.index[i], \"value\": int(values[i])})       "
   ]
  },
  {
   "cell_type": "code",
   "execution_count": 90,
   "metadata": {},
   "outputs": [],
   "source": [
    "with open('importers_json.json', 'w') as outfile:\n",
    "    json.dump(importers_json, outfile)"
   ]
  },
  {
   "cell_type": "code",
   "execution_count": null,
   "metadata": {
    "collapsed": true
   },
   "outputs": [],
   "source": []
  }
 ],
 "metadata": {
  "kernelspec": {
   "display_name": "Python 3",
   "language": "python",
   "name": "python3"
  },
  "language_info": {
   "codemirror_mode": {
    "name": "ipython",
    "version": 3
   },
   "file_extension": ".py",
   "mimetype": "text/x-python",
   "name": "python",
   "nbconvert_exporter": "python",
   "pygments_lexer": "ipython3",
   "version": "3.6.1"
  }
 },
 "nbformat": 4,
 "nbformat_minor": 2
}
